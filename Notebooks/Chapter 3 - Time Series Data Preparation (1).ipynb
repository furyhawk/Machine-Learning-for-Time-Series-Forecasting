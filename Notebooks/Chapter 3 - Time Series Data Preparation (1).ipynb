{
 "cells": [
  {
   "cell_type": "markdown",
   "metadata": {},
   "source": [
    "# Chapter 3 - Time Series Data Preparation"
   ]
  },
  {
   "cell_type": "markdown",
   "metadata": {},
   "source": [
    "## Python for time series data"
   ]
  },
  {
   "cell_type": "markdown",
   "metadata": {},
   "source": [
    "## Common data preparation operations for time series"
   ]
  },
  {
   "cell_type": "markdown",
   "metadata": {},
   "source": [
    "### Timestamps vs. Time Spans"
   ]
  },
  {
   "cell_type": "code",
   "execution_count": 1,
   "metadata": {},
   "outputs": [],
   "source": [
    "import pandas as pd\n",
    "import datetime as dt\n",
    "import numpy as np"
   ]
  },
  {
   "cell_type": "code",
   "execution_count": 2,
   "metadata": {},
   "outputs": [
    {
     "data": {
      "text/plain": [
       "Timestamp('2014-05-01 00:00:00')"
      ]
     },
     "execution_count": 2,
     "metadata": {},
     "output_type": "execute_result"
    }
   ],
   "source": [
    "pd.Timestamp(dt.datetime(2014, 5, 1))"
   ]
  },
  {
   "cell_type": "code",
   "execution_count": 3,
   "metadata": {},
   "outputs": [
    {
     "data": {
      "text/plain": [
       "Timestamp('2014-06-01 00:00:00')"
      ]
     },
     "execution_count": 3,
     "metadata": {},
     "output_type": "execute_result"
    }
   ],
   "source": [
    "pd.Timestamp(\"2014-06-01\")"
   ]
  },
  {
   "cell_type": "code",
   "execution_count": 4,
   "metadata": {},
   "outputs": [
    {
     "data": {
      "text/plain": [
       "Timestamp('2014-06-01 00:00:00')"
      ]
     },
     "execution_count": 4,
     "metadata": {},
     "output_type": "execute_result"
    }
   ],
   "source": [
    "pd.Timestamp(2014, 6, 1)"
   ]
  },
  {
   "cell_type": "code",
   "execution_count": 5,
   "metadata": {},
   "outputs": [
    {
     "data": {
      "text/plain": [
       "Period('2014-06', 'M')"
      ]
     },
     "execution_count": 5,
     "metadata": {},
     "output_type": "execute_result"
    }
   ],
   "source": [
    "pd.Period(\"2014-06\")"
   ]
  },
  {
   "cell_type": "code",
   "execution_count": 6,
   "metadata": {},
   "outputs": [
    {
     "data": {
      "text/plain": [
       "Period('2014-06-01', 'D')"
      ]
     },
     "execution_count": 6,
     "metadata": {},
     "output_type": "execute_result"
    }
   ],
   "source": [
    "pd.Period(\"2014-06\", freq=\"D\")"
   ]
  },
  {
   "cell_type": "code",
   "execution_count": 7,
   "metadata": {},
   "outputs": [
    {
     "data": {
      "text/plain": [
       "pandas.core.indexes.datetimes.DatetimeIndex"
      ]
     },
     "execution_count": 7,
     "metadata": {},
     "output_type": "execute_result"
    }
   ],
   "source": [
    "dates = [\n",
    "    pd.Timestamp(\"2014-06-01\"),\n",
    "    pd.Timestamp(\"2014-06-02\"),\n",
    "    pd.Timestamp(\"2014-06-03\"),\n",
    "]\n",
    "\n",
    "ts_data = pd.Series(np.random.randn(3), dates)\n",
    "\n",
    "type(ts_data.index)"
   ]
  },
  {
   "cell_type": "code",
   "execution_count": 8,
   "metadata": {},
   "outputs": [
    {
     "data": {
      "text/plain": [
       "DatetimeIndex(['2014-06-01', '2014-06-02', '2014-06-03'], dtype='datetime64[ns]', freq=None)"
      ]
     },
     "execution_count": 8,
     "metadata": {},
     "output_type": "execute_result"
    }
   ],
   "source": [
    "ts_data.index"
   ]
  },
  {
   "cell_type": "code",
   "execution_count": 9,
   "metadata": {},
   "outputs": [
    {
     "data": {
      "text/plain": [
       "2014-06-01   -1.581498\n",
       "2014-06-02    1.198892\n",
       "2014-06-03   -0.615965\n",
       "dtype: float64"
      ]
     },
     "execution_count": 9,
     "metadata": {},
     "output_type": "execute_result"
    }
   ],
   "source": [
    "ts_data"
   ]
  },
  {
   "cell_type": "code",
   "execution_count": 10,
   "metadata": {},
   "outputs": [
    {
     "data": {
      "text/plain": [
       "pandas.core.indexes.period.PeriodIndex"
      ]
     },
     "execution_count": 10,
     "metadata": {},
     "output_type": "execute_result"
    }
   ],
   "source": [
    "periods = [pd.Period(\"2014-01\"), pd.Period(\"2014-02\"), pd.Period(\"2014-03\")]\n",
    "ts_data = pd.Series(np.random.randn(3), periods)\n",
    "type(ts_data.index)"
   ]
  },
  {
   "cell_type": "code",
   "execution_count": 11,
   "metadata": {},
   "outputs": [
    {
     "data": {
      "text/plain": [
       "PeriodIndex(['2014-01', '2014-02', '2014-03'], dtype='period[M]')"
      ]
     },
     "execution_count": 11,
     "metadata": {},
     "output_type": "execute_result"
    }
   ],
   "source": [
    "ts_data.index"
   ]
  },
  {
   "cell_type": "code",
   "execution_count": 12,
   "metadata": {},
   "outputs": [
    {
     "data": {
      "text/plain": [
       "2014-01   -0.900394\n",
       "2014-02    0.253018\n",
       "2014-03   -0.452299\n",
       "Freq: M, dtype: float64"
      ]
     },
     "execution_count": 12,
     "metadata": {},
     "output_type": "execute_result"
    }
   ],
   "source": [
    "ts_data"
   ]
  },
  {
   "cell_type": "markdown",
   "metadata": {},
   "source": [
    "### Converting to timestamps"
   ]
  },
  {
   "cell_type": "code",
   "execution_count": 13,
   "metadata": {},
   "outputs": [
    {
     "data": {
      "text/plain": [
       "0   2012-07-31\n",
       "1   2012-01-10\n",
       "2          NaT\n",
       "dtype: datetime64[ns]"
      ]
     },
     "execution_count": 13,
     "metadata": {},
     "output_type": "execute_result"
    }
   ],
   "source": [
    "pd.to_datetime(pd.Series([\"Jul 31, 2012\", \"2012-01-10\", None]))"
   ]
  },
  {
   "cell_type": "code",
   "execution_count": 14,
   "metadata": {},
   "outputs": [
    {
     "data": {
      "text/plain": [
       "DatetimeIndex(['2012-11-23', '2012-12-31'], dtype='datetime64[ns]', freq=None)"
      ]
     },
     "execution_count": 14,
     "metadata": {},
     "output_type": "execute_result"
    }
   ],
   "source": [
    "pd.to_datetime([\"2012/11/23\", \"2012.12.31\"])"
   ]
  },
  {
   "cell_type": "code",
   "execution_count": 15,
   "metadata": {},
   "outputs": [
    {
     "data": {
      "text/plain": [
       "DatetimeIndex(['2014-01-04 10:00:00'], dtype='datetime64[ns]', freq=None)"
      ]
     },
     "execution_count": 15,
     "metadata": {},
     "output_type": "execute_result"
    }
   ],
   "source": [
    "pd.to_datetime([\"04-01-2014 10:00\"], dayfirst=True)"
   ]
  },
  {
   "cell_type": "code",
   "execution_count": 16,
   "metadata": {},
   "outputs": [
    {
     "data": {
      "text/plain": [
       "DatetimeIndex(['2014-01-14', '2012-01-14'], dtype='datetime64[ns]', freq=None)"
      ]
     },
     "execution_count": 16,
     "metadata": {},
     "output_type": "execute_result"
    }
   ],
   "source": [
    "pd.to_datetime([\"14-01-2014\", \"01-14-2012\"], dayfirst=True)"
   ]
  },
  {
   "cell_type": "markdown",
   "metadata": {},
   "source": [
    "### Providing a Format Argument"
   ]
  },
  {
   "cell_type": "code",
   "execution_count": 17,
   "metadata": {},
   "outputs": [
    {
     "data": {
      "text/plain": [
       "Timestamp('2018-11-12 00:00:00')"
      ]
     },
     "execution_count": 17,
     "metadata": {},
     "output_type": "execute_result"
    }
   ],
   "source": [
    "pd.to_datetime(\"2018/11/12\", format=\"%Y/%m/%d\")"
   ]
  },
  {
   "cell_type": "code",
   "execution_count": 18,
   "metadata": {},
   "outputs": [
    {
     "data": {
      "text/plain": [
       "Timestamp('2018-11-11 00:00:00')"
      ]
     },
     "execution_count": 18,
     "metadata": {},
     "output_type": "execute_result"
    }
   ],
   "source": [
    "pd.to_datetime(\"11-11-2018 00:00\", format=\"%d-%m-%Y %H:%M\")"
   ]
  },
  {
   "cell_type": "markdown",
   "metadata": {},
   "source": [
    "### Indexing"
   ]
  },
  {
   "cell_type": "code",
   "execution_count": 19,
   "metadata": {},
   "outputs": [],
   "source": [
    "import os\n",
    "import shutil\n",
    "from common.utils import download_file, extract_data, load_data\n",
    "\n",
    "pd.options.display.float_format = \"{:,.2f}\".format\n",
    "np.set_printoptions(precision=2)"
   ]
  },
  {
   "cell_type": "code",
   "execution_count": 20,
   "metadata": {},
   "outputs": [],
   "source": [
    "data_dir = \"./data\"\n",
    "\n",
    "if not os.path.exists(data_dir):\n",
    "    os.mkdir(data_dir)\n",
    "\n",
    "if not os.path.exists(os.path.join(data_dir, \"energy.csv\")):\n",
    "    download_file(\"https://mlftsfwp.blob.core.windows.net/mlftsfwp/GEFCom2014.zip\")\n",
    "    shutil.move(\"GEFCom2014.zip\", os.path.join(data_dir, \"GEFCom2014.zip\"))\n",
    "    extract_data(data_dir)"
   ]
  },
  {
   "cell_type": "code",
   "execution_count": 21,
   "metadata": {},
   "outputs": [
    {
     "data": {
      "text/html": [
       "<div>\n",
       "<style scoped>\n",
       "    .dataframe tbody tr th:only-of-type {\n",
       "        vertical-align: middle;\n",
       "    }\n",
       "\n",
       "    .dataframe tbody tr th {\n",
       "        vertical-align: top;\n",
       "    }\n",
       "\n",
       "    .dataframe thead th {\n",
       "        text-align: right;\n",
       "    }\n",
       "</style>\n",
       "<table border=\"1\" class=\"dataframe\">\n",
       "  <thead>\n",
       "    <tr style=\"text-align: right;\">\n",
       "      <th></th>\n",
       "      <th>load</th>\n",
       "    </tr>\n",
       "  </thead>\n",
       "  <tbody>\n",
       "    <tr>\n",
       "      <th>2012-01-01 00:00:00</th>\n",
       "      <td>2,698.00</td>\n",
       "    </tr>\n",
       "    <tr>\n",
       "      <th>2012-01-01 01:00:00</th>\n",
       "      <td>2,558.00</td>\n",
       "    </tr>\n",
       "    <tr>\n",
       "      <th>2012-01-01 02:00:00</th>\n",
       "      <td>2,444.00</td>\n",
       "    </tr>\n",
       "    <tr>\n",
       "      <th>2012-01-01 03:00:00</th>\n",
       "      <td>2,402.00</td>\n",
       "    </tr>\n",
       "    <tr>\n",
       "      <th>2012-01-01 04:00:00</th>\n",
       "      <td>2,403.00</td>\n",
       "    </tr>\n",
       "  </tbody>\n",
       "</table>\n",
       "</div>"
      ],
      "text/plain": [
       "                        load\n",
       "2012-01-01 00:00:00 2,698.00\n",
       "2012-01-01 01:00:00 2,558.00\n",
       "2012-01-01 02:00:00 2,444.00\n",
       "2012-01-01 03:00:00 2,402.00\n",
       "2012-01-01 04:00:00 2,403.00"
      ]
     },
     "execution_count": 21,
     "metadata": {},
     "output_type": "execute_result"
    }
   ],
   "source": [
    "ts_data_load = load_data(data_dir)[[\"load\"]]\n",
    "ts_data_load.head()"
   ]
  },
  {
   "cell_type": "code",
   "execution_count": 22,
   "metadata": {},
   "outputs": [
    {
     "data": {
      "text/plain": [
       "DatetimeIndex(['2012-01-01 00:00:00', '2012-01-01 01:00:00',\n",
       "               '2012-01-01 02:00:00', '2012-01-01 03:00:00',\n",
       "               '2012-01-01 04:00:00', '2012-01-01 05:00:00',\n",
       "               '2012-01-01 06:00:00', '2012-01-01 07:00:00',\n",
       "               '2012-01-01 08:00:00', '2012-01-01 09:00:00',\n",
       "               ...\n",
       "               '2014-12-31 14:00:00', '2014-12-31 15:00:00',\n",
       "               '2014-12-31 16:00:00', '2014-12-31 17:00:00',\n",
       "               '2014-12-31 18:00:00', '2014-12-31 19:00:00',\n",
       "               '2014-12-31 20:00:00', '2014-12-31 21:00:00',\n",
       "               '2014-12-31 22:00:00', '2014-12-31 23:00:00'],\n",
       "              dtype='datetime64[ns]', length=26304, freq='H')"
      ]
     },
     "execution_count": 22,
     "metadata": {},
     "output_type": "execute_result"
    }
   ],
   "source": [
    "ts_data_load.index"
   ]
  },
  {
   "cell_type": "code",
   "execution_count": 23,
   "metadata": {},
   "outputs": [
    {
     "data": {
      "text/plain": [
       "DatetimeIndex(['2012-01-01 00:00:00', '2012-01-01 01:00:00',\n",
       "               '2012-01-01 02:00:00', '2012-01-01 03:00:00',\n",
       "               '2012-01-01 04:00:00'],\n",
       "              dtype='datetime64[ns]', freq='H')"
      ]
     },
     "execution_count": 23,
     "metadata": {},
     "output_type": "execute_result"
    }
   ],
   "source": [
    "ts_data_load[:5].index"
   ]
  },
  {
   "cell_type": "code",
   "execution_count": 24,
   "metadata": {},
   "outputs": [
    {
     "data": {
      "text/plain": [
       "DatetimeIndex(['2012-01-01 00:00:00', '2012-01-01 02:00:00',\n",
       "               '2012-01-01 04:00:00', '2012-01-01 06:00:00',\n",
       "               '2012-01-01 08:00:00', '2012-01-01 10:00:00',\n",
       "               '2012-01-01 12:00:00', '2012-01-01 14:00:00',\n",
       "               '2012-01-01 16:00:00', '2012-01-01 18:00:00',\n",
       "               ...\n",
       "               '2014-12-31 04:00:00', '2014-12-31 06:00:00',\n",
       "               '2014-12-31 08:00:00', '2014-12-31 10:00:00',\n",
       "               '2014-12-31 12:00:00', '2014-12-31 14:00:00',\n",
       "               '2014-12-31 16:00:00', '2014-12-31 18:00:00',\n",
       "               '2014-12-31 20:00:00', '2014-12-31 22:00:00'],\n",
       "              dtype='datetime64[ns]', length=13152, freq='2H')"
      ]
     },
     "execution_count": 24,
     "metadata": {},
     "output_type": "execute_result"
    }
   ],
   "source": [
    "ts_data_load[::2].index"
   ]
  },
  {
   "cell_type": "code",
   "execution_count": 25,
   "metadata": {},
   "outputs": [
    {
     "name": "stderr",
     "output_type": "stream",
     "text": [
      "C:\\Users\\furyx\\miniconda3\\envs\\timeseriesbook\\lib\\site-packages\\ipykernel_launcher.py:1: FutureWarning: Indexing a DataFrame with a datetimelike index using a single string to slice the rows, like `frame[string]`, is deprecated and will be removed in a future version. Use `frame.loc[string]` instead.\n",
      "  \"\"\"Entry point for launching an IPython kernel.\n"
     ]
    },
    {
     "data": {
      "text/html": [
       "<div>\n",
       "<style scoped>\n",
       "    .dataframe tbody tr th:only-of-type {\n",
       "        vertical-align: middle;\n",
       "    }\n",
       "\n",
       "    .dataframe tbody tr th {\n",
       "        vertical-align: top;\n",
       "    }\n",
       "\n",
       "    .dataframe thead th {\n",
       "        text-align: right;\n",
       "    }\n",
       "</style>\n",
       "<table border=\"1\" class=\"dataframe\">\n",
       "  <thead>\n",
       "    <tr style=\"text-align: right;\">\n",
       "      <th></th>\n",
       "      <th>load</th>\n",
       "    </tr>\n",
       "  </thead>\n",
       "  <tbody>\n",
       "    <tr>\n",
       "      <th>2012-06-01 00:00:00</th>\n",
       "      <td>2,474.00</td>\n",
       "    </tr>\n",
       "    <tr>\n",
       "      <th>2012-06-01 01:00:00</th>\n",
       "      <td>2,349.00</td>\n",
       "    </tr>\n",
       "    <tr>\n",
       "      <th>2012-06-01 02:00:00</th>\n",
       "      <td>2,291.00</td>\n",
       "    </tr>\n",
       "    <tr>\n",
       "      <th>2012-06-01 03:00:00</th>\n",
       "      <td>2,281.00</td>\n",
       "    </tr>\n",
       "    <tr>\n",
       "      <th>2012-06-01 04:00:00</th>\n",
       "      <td>2,343.00</td>\n",
       "    </tr>\n",
       "    <tr>\n",
       "      <th>2012-06-01 05:00:00</th>\n",
       "      <td>2,518.00</td>\n",
       "    </tr>\n",
       "    <tr>\n",
       "      <th>2012-06-01 06:00:00</th>\n",
       "      <td>2,934.00</td>\n",
       "    </tr>\n",
       "    <tr>\n",
       "      <th>2012-06-01 07:00:00</th>\n",
       "      <td>3,235.00</td>\n",
       "    </tr>\n",
       "    <tr>\n",
       "      <th>2012-06-01 08:00:00</th>\n",
       "      <td>3,348.00</td>\n",
       "    </tr>\n",
       "    <tr>\n",
       "      <th>2012-06-01 09:00:00</th>\n",
       "      <td>3,405.00</td>\n",
       "    </tr>\n",
       "    <tr>\n",
       "      <th>2012-06-01 10:00:00</th>\n",
       "      <td>3,459.00</td>\n",
       "    </tr>\n",
       "    <tr>\n",
       "      <th>2012-06-01 11:00:00</th>\n",
       "      <td>3,479.00</td>\n",
       "    </tr>\n",
       "    <tr>\n",
       "      <th>2012-06-01 12:00:00</th>\n",
       "      <td>3,478.00</td>\n",
       "    </tr>\n",
       "    <tr>\n",
       "      <th>2012-06-01 13:00:00</th>\n",
       "      <td>3,495.00</td>\n",
       "    </tr>\n",
       "    <tr>\n",
       "      <th>2012-06-01 14:00:00</th>\n",
       "      <td>3,473.00</td>\n",
       "    </tr>\n",
       "    <tr>\n",
       "      <th>2012-06-01 15:00:00</th>\n",
       "      <td>3,439.00</td>\n",
       "    </tr>\n",
       "    <tr>\n",
       "      <th>2012-06-01 16:00:00</th>\n",
       "      <td>3,404.00</td>\n",
       "    </tr>\n",
       "    <tr>\n",
       "      <th>2012-06-01 17:00:00</th>\n",
       "      <td>3,337.00</td>\n",
       "    </tr>\n",
       "    <tr>\n",
       "      <th>2012-06-01 18:00:00</th>\n",
       "      <td>3,291.00</td>\n",
       "    </tr>\n",
       "    <tr>\n",
       "      <th>2012-06-01 19:00:00</th>\n",
       "      <td>3,261.00</td>\n",
       "    </tr>\n",
       "    <tr>\n",
       "      <th>2012-06-01 20:00:00</th>\n",
       "      <td>3,309.00</td>\n",
       "    </tr>\n",
       "    <tr>\n",
       "      <th>2012-06-01 21:00:00</th>\n",
       "      <td>3,197.00</td>\n",
       "    </tr>\n",
       "    <tr>\n",
       "      <th>2012-06-01 22:00:00</th>\n",
       "      <td>2,916.00</td>\n",
       "    </tr>\n",
       "    <tr>\n",
       "      <th>2012-06-01 23:00:00</th>\n",
       "      <td>2,619.00</td>\n",
       "    </tr>\n",
       "  </tbody>\n",
       "</table>\n",
       "</div>"
      ],
      "text/plain": [
       "                        load\n",
       "2012-06-01 00:00:00 2,474.00\n",
       "2012-06-01 01:00:00 2,349.00\n",
       "2012-06-01 02:00:00 2,291.00\n",
       "2012-06-01 03:00:00 2,281.00\n",
       "2012-06-01 04:00:00 2,343.00\n",
       "2012-06-01 05:00:00 2,518.00\n",
       "2012-06-01 06:00:00 2,934.00\n",
       "2012-06-01 07:00:00 3,235.00\n",
       "2012-06-01 08:00:00 3,348.00\n",
       "2012-06-01 09:00:00 3,405.00\n",
       "2012-06-01 10:00:00 3,459.00\n",
       "2012-06-01 11:00:00 3,479.00\n",
       "2012-06-01 12:00:00 3,478.00\n",
       "2012-06-01 13:00:00 3,495.00\n",
       "2012-06-01 14:00:00 3,473.00\n",
       "2012-06-01 15:00:00 3,439.00\n",
       "2012-06-01 16:00:00 3,404.00\n",
       "2012-06-01 17:00:00 3,337.00\n",
       "2012-06-01 18:00:00 3,291.00\n",
       "2012-06-01 19:00:00 3,261.00\n",
       "2012-06-01 20:00:00 3,309.00\n",
       "2012-06-01 21:00:00 3,197.00\n",
       "2012-06-01 22:00:00 2,916.00\n",
       "2012-06-01 23:00:00 2,619.00"
      ]
     },
     "execution_count": 25,
     "metadata": {},
     "output_type": "execute_result"
    }
   ],
   "source": [
    "ts_data_load[\"2012-6-01\"]"
   ]
  },
  {
   "cell_type": "code",
   "execution_count": 26,
   "metadata": {},
   "outputs": [
    {
     "data": {
      "text/html": [
       "<div>\n",
       "<style scoped>\n",
       "    .dataframe tbody tr th:only-of-type {\n",
       "        vertical-align: middle;\n",
       "    }\n",
       "\n",
       "    .dataframe tbody tr th {\n",
       "        vertical-align: top;\n",
       "    }\n",
       "\n",
       "    .dataframe thead th {\n",
       "        text-align: right;\n",
       "    }\n",
       "</style>\n",
       "<table border=\"1\" class=\"dataframe\">\n",
       "  <thead>\n",
       "    <tr style=\"text-align: right;\">\n",
       "      <th></th>\n",
       "      <th>load</th>\n",
       "    </tr>\n",
       "  </thead>\n",
       "  <tbody>\n",
       "    <tr>\n",
       "      <th>2012-01-01 00:00:00</th>\n",
       "      <td>2,698.00</td>\n",
       "    </tr>\n",
       "    <tr>\n",
       "      <th>2012-01-01 01:00:00</th>\n",
       "      <td>2,558.00</td>\n",
       "    </tr>\n",
       "    <tr>\n",
       "      <th>2012-01-01 02:00:00</th>\n",
       "      <td>2,444.00</td>\n",
       "    </tr>\n",
       "    <tr>\n",
       "      <th>2012-01-01 03:00:00</th>\n",
       "      <td>2,402.00</td>\n",
       "    </tr>\n",
       "    <tr>\n",
       "      <th>2012-01-01 04:00:00</th>\n",
       "      <td>2,403.00</td>\n",
       "    </tr>\n",
       "    <tr>\n",
       "      <th>...</th>\n",
       "      <td>...</td>\n",
       "    </tr>\n",
       "    <tr>\n",
       "      <th>2012-02-28 19:00:00</th>\n",
       "      <td>3,858.00</td>\n",
       "    </tr>\n",
       "    <tr>\n",
       "      <th>2012-02-28 20:00:00</th>\n",
       "      <td>3,687.00</td>\n",
       "    </tr>\n",
       "    <tr>\n",
       "      <th>2012-02-28 21:00:00</th>\n",
       "      <td>3,420.00</td>\n",
       "    </tr>\n",
       "    <tr>\n",
       "      <th>2012-02-28 22:00:00</th>\n",
       "      <td>3,122.00</td>\n",
       "    </tr>\n",
       "    <tr>\n",
       "      <th>2012-02-28 23:00:00</th>\n",
       "      <td>2,875.00</td>\n",
       "    </tr>\n",
       "  </tbody>\n",
       "</table>\n",
       "<p>1416 rows × 1 columns</p>\n",
       "</div>"
      ],
      "text/plain": [
       "                        load\n",
       "2012-01-01 00:00:00 2,698.00\n",
       "2012-01-01 01:00:00 2,558.00\n",
       "2012-01-01 02:00:00 2,444.00\n",
       "2012-01-01 03:00:00 2,402.00\n",
       "2012-01-01 04:00:00 2,403.00\n",
       "...                      ...\n",
       "2012-02-28 19:00:00 3,858.00\n",
       "2012-02-28 20:00:00 3,687.00\n",
       "2012-02-28 21:00:00 3,420.00\n",
       "2012-02-28 22:00:00 3,122.00\n",
       "2012-02-28 23:00:00 2,875.00\n",
       "\n",
       "[1416 rows x 1 columns]"
      ]
     },
     "execution_count": 26,
     "metadata": {},
     "output_type": "execute_result"
    }
   ],
   "source": [
    "ts_data_load[\"2012-1\":\"2012-2-28\"]"
   ]
  },
  {
   "cell_type": "code",
   "execution_count": 27,
   "metadata": {},
   "outputs": [
    {
     "data": {
      "text/html": [
       "<div>\n",
       "<style scoped>\n",
       "    .dataframe tbody tr th:only-of-type {\n",
       "        vertical-align: middle;\n",
       "    }\n",
       "\n",
       "    .dataframe tbody tr th {\n",
       "        vertical-align: top;\n",
       "    }\n",
       "\n",
       "    .dataframe thead th {\n",
       "        text-align: right;\n",
       "    }\n",
       "</style>\n",
       "<table border=\"1\" class=\"dataframe\">\n",
       "  <thead>\n",
       "    <tr style=\"text-align: right;\">\n",
       "      <th></th>\n",
       "      <th>load</th>\n",
       "    </tr>\n",
       "  </thead>\n",
       "  <tbody>\n",
       "    <tr>\n",
       "      <th>2012-01-01 00:00:00</th>\n",
       "      <td>2,698.00</td>\n",
       "    </tr>\n",
       "    <tr>\n",
       "      <th>2012-01-01 01:00:00</th>\n",
       "      <td>2,558.00</td>\n",
       "    </tr>\n",
       "    <tr>\n",
       "      <th>2012-01-01 02:00:00</th>\n",
       "      <td>2,444.00</td>\n",
       "    </tr>\n",
       "    <tr>\n",
       "      <th>2012-01-01 03:00:00</th>\n",
       "      <td>2,402.00</td>\n",
       "    </tr>\n",
       "    <tr>\n",
       "      <th>2012-01-01 04:00:00</th>\n",
       "      <td>2,403.00</td>\n",
       "    </tr>\n",
       "    <tr>\n",
       "      <th>2012-01-01 05:00:00</th>\n",
       "      <td>2,453.00</td>\n",
       "    </tr>\n",
       "    <tr>\n",
       "      <th>2012-01-01 06:00:00</th>\n",
       "      <td>2,560.00</td>\n",
       "    </tr>\n",
       "    <tr>\n",
       "      <th>2012-01-01 07:00:00</th>\n",
       "      <td>2,719.00</td>\n",
       "    </tr>\n",
       "    <tr>\n",
       "      <th>2012-01-01 08:00:00</th>\n",
       "      <td>2,916.00</td>\n",
       "    </tr>\n",
       "    <tr>\n",
       "      <th>2012-01-01 09:00:00</th>\n",
       "      <td>3,105.00</td>\n",
       "    </tr>\n",
       "    <tr>\n",
       "      <th>2012-01-01 10:00:00</th>\n",
       "      <td>3,174.00</td>\n",
       "    </tr>\n",
       "    <tr>\n",
       "      <th>2012-01-01 11:00:00</th>\n",
       "      <td>3,180.00</td>\n",
       "    </tr>\n",
       "    <tr>\n",
       "      <th>2012-01-01 12:00:00</th>\n",
       "      <td>3,184.00</td>\n",
       "    </tr>\n",
       "    <tr>\n",
       "      <th>2012-01-01 13:00:00</th>\n",
       "      <td>3,147.00</td>\n",
       "    </tr>\n",
       "    <tr>\n",
       "      <th>2012-01-01 14:00:00</th>\n",
       "      <td>3,122.00</td>\n",
       "    </tr>\n",
       "    <tr>\n",
       "      <th>2012-01-01 15:00:00</th>\n",
       "      <td>3,137.00</td>\n",
       "    </tr>\n",
       "    <tr>\n",
       "      <th>2012-01-01 16:00:00</th>\n",
       "      <td>3,486.00</td>\n",
       "    </tr>\n",
       "    <tr>\n",
       "      <th>2012-01-01 17:00:00</th>\n",
       "      <td>3,717.00</td>\n",
       "    </tr>\n",
       "    <tr>\n",
       "      <th>2012-01-01 18:00:00</th>\n",
       "      <td>3,659.00</td>\n",
       "    </tr>\n",
       "    <tr>\n",
       "      <th>2012-01-01 19:00:00</th>\n",
       "      <td>3,513.00</td>\n",
       "    </tr>\n",
       "    <tr>\n",
       "      <th>2012-01-01 20:00:00</th>\n",
       "      <td>3,344.00</td>\n",
       "    </tr>\n",
       "    <tr>\n",
       "      <th>2012-01-01 21:00:00</th>\n",
       "      <td>3,129.00</td>\n",
       "    </tr>\n",
       "    <tr>\n",
       "      <th>2012-01-01 22:00:00</th>\n",
       "      <td>2,873.00</td>\n",
       "    </tr>\n",
       "    <tr>\n",
       "      <th>2012-01-01 23:00:00</th>\n",
       "      <td>2,639.00</td>\n",
       "    </tr>\n",
       "    <tr>\n",
       "      <th>2012-01-02 00:00:00</th>\n",
       "      <td>2,458.00</td>\n",
       "    </tr>\n",
       "  </tbody>\n",
       "</table>\n",
       "</div>"
      ],
      "text/plain": [
       "                        load\n",
       "2012-01-01 00:00:00 2,698.00\n",
       "2012-01-01 01:00:00 2,558.00\n",
       "2012-01-01 02:00:00 2,444.00\n",
       "2012-01-01 03:00:00 2,402.00\n",
       "2012-01-01 04:00:00 2,403.00\n",
       "2012-01-01 05:00:00 2,453.00\n",
       "2012-01-01 06:00:00 2,560.00\n",
       "2012-01-01 07:00:00 2,719.00\n",
       "2012-01-01 08:00:00 2,916.00\n",
       "2012-01-01 09:00:00 3,105.00\n",
       "2012-01-01 10:00:00 3,174.00\n",
       "2012-01-01 11:00:00 3,180.00\n",
       "2012-01-01 12:00:00 3,184.00\n",
       "2012-01-01 13:00:00 3,147.00\n",
       "2012-01-01 14:00:00 3,122.00\n",
       "2012-01-01 15:00:00 3,137.00\n",
       "2012-01-01 16:00:00 3,486.00\n",
       "2012-01-01 17:00:00 3,717.00\n",
       "2012-01-01 18:00:00 3,659.00\n",
       "2012-01-01 19:00:00 3,513.00\n",
       "2012-01-01 20:00:00 3,344.00\n",
       "2012-01-01 21:00:00 3,129.00\n",
       "2012-01-01 22:00:00 2,873.00\n",
       "2012-01-01 23:00:00 2,639.00\n",
       "2012-01-02 00:00:00 2,458.00"
      ]
     },
     "execution_count": 27,
     "metadata": {},
     "output_type": "execute_result"
    }
   ],
   "source": [
    "ts_data_load[\"2012-1\":\"2012-1-2 00:00:00\"]"
   ]
  },
  {
   "cell_type": "code",
   "execution_count": 28,
   "metadata": {},
   "outputs": [
    {
     "data": {
      "text/html": [
       "<div>\n",
       "<style scoped>\n",
       "    .dataframe tbody tr th:only-of-type {\n",
       "        vertical-align: middle;\n",
       "    }\n",
       "\n",
       "    .dataframe tbody tr th {\n",
       "        vertical-align: top;\n",
       "    }\n",
       "\n",
       "    .dataframe thead th {\n",
       "        text-align: right;\n",
       "    }\n",
       "</style>\n",
       "<table border=\"1\" class=\"dataframe\">\n",
       "  <thead>\n",
       "    <tr style=\"text-align: right;\">\n",
       "      <th></th>\n",
       "      <th>load</th>\n",
       "    </tr>\n",
       "  </thead>\n",
       "  <tbody>\n",
       "    <tr>\n",
       "      <th>2013-11-01 00:00:00</th>\n",
       "      <td>2,506.00</td>\n",
       "    </tr>\n",
       "    <tr>\n",
       "      <th>2013-11-01 01:00:00</th>\n",
       "      <td>2,419.00</td>\n",
       "    </tr>\n",
       "    <tr>\n",
       "      <th>2013-11-01 02:00:00</th>\n",
       "      <td>2,369.00</td>\n",
       "    </tr>\n",
       "    <tr>\n",
       "      <th>2013-11-01 03:00:00</th>\n",
       "      <td>2,349.00</td>\n",
       "    </tr>\n",
       "    <tr>\n",
       "      <th>2013-11-01 04:00:00</th>\n",
       "      <td>2,425.00</td>\n",
       "    </tr>\n",
       "    <tr>\n",
       "      <th>2013-11-01 05:00:00</th>\n",
       "      <td>2,671.00</td>\n",
       "    </tr>\n",
       "    <tr>\n",
       "      <th>2013-11-01 06:00:00</th>\n",
       "      <td>3,143.00</td>\n",
       "    </tr>\n",
       "    <tr>\n",
       "      <th>2013-11-01 07:00:00</th>\n",
       "      <td>3,438.00</td>\n",
       "    </tr>\n",
       "    <tr>\n",
       "      <th>2013-11-01 08:00:00</th>\n",
       "      <td>3,486.00</td>\n",
       "    </tr>\n",
       "    <tr>\n",
       "      <th>2013-11-01 09:00:00</th>\n",
       "      <td>3,541.00</td>\n",
       "    </tr>\n",
       "    <tr>\n",
       "      <th>2013-11-01 10:00:00</th>\n",
       "      <td>3,591.00</td>\n",
       "    </tr>\n",
       "    <tr>\n",
       "      <th>2013-11-01 11:00:00</th>\n",
       "      <td>3,585.00</td>\n",
       "    </tr>\n",
       "    <tr>\n",
       "      <th>2013-11-01 12:00:00</th>\n",
       "      <td>3,532.00</td>\n",
       "    </tr>\n",
       "    <tr>\n",
       "      <th>2013-11-01 13:00:00</th>\n",
       "      <td>3,491.00</td>\n",
       "    </tr>\n",
       "    <tr>\n",
       "      <th>2013-11-01 14:00:00</th>\n",
       "      <td>3,430.00</td>\n",
       "    </tr>\n",
       "    <tr>\n",
       "      <th>2013-11-01 15:00:00</th>\n",
       "      <td>3,358.00</td>\n",
       "    </tr>\n",
       "    <tr>\n",
       "      <th>2013-11-01 16:00:00</th>\n",
       "      <td>3,347.00</td>\n",
       "    </tr>\n",
       "    <tr>\n",
       "      <th>2013-11-01 17:00:00</th>\n",
       "      <td>3,478.00</td>\n",
       "    </tr>\n",
       "    <tr>\n",
       "      <th>2013-11-01 18:00:00</th>\n",
       "      <td>3,636.00</td>\n",
       "    </tr>\n",
       "    <tr>\n",
       "      <th>2013-11-01 19:00:00</th>\n",
       "      <td>3,501.00</td>\n",
       "    </tr>\n",
       "    <tr>\n",
       "      <th>2013-11-01 20:00:00</th>\n",
       "      <td>3,345.00</td>\n",
       "    </tr>\n",
       "    <tr>\n",
       "      <th>2013-11-01 21:00:00</th>\n",
       "      <td>3,131.00</td>\n",
       "    </tr>\n",
       "    <tr>\n",
       "      <th>2013-11-01 22:00:00</th>\n",
       "      <td>2,883.00</td>\n",
       "    </tr>\n",
       "    <tr>\n",
       "      <th>2013-11-01 23:00:00</th>\n",
       "      <td>2,626.00</td>\n",
       "    </tr>\n",
       "    <tr>\n",
       "      <th>2013-11-02 00:00:00</th>\n",
       "      <td>2,447.00</td>\n",
       "    </tr>\n",
       "  </tbody>\n",
       "</table>\n",
       "</div>"
      ],
      "text/plain": [
       "                        load\n",
       "2013-11-01 00:00:00 2,506.00\n",
       "2013-11-01 01:00:00 2,419.00\n",
       "2013-11-01 02:00:00 2,369.00\n",
       "2013-11-01 03:00:00 2,349.00\n",
       "2013-11-01 04:00:00 2,425.00\n",
       "2013-11-01 05:00:00 2,671.00\n",
       "2013-11-01 06:00:00 3,143.00\n",
       "2013-11-01 07:00:00 3,438.00\n",
       "2013-11-01 08:00:00 3,486.00\n",
       "2013-11-01 09:00:00 3,541.00\n",
       "2013-11-01 10:00:00 3,591.00\n",
       "2013-11-01 11:00:00 3,585.00\n",
       "2013-11-01 12:00:00 3,532.00\n",
       "2013-11-01 13:00:00 3,491.00\n",
       "2013-11-01 14:00:00 3,430.00\n",
       "2013-11-01 15:00:00 3,358.00\n",
       "2013-11-01 16:00:00 3,347.00\n",
       "2013-11-01 17:00:00 3,478.00\n",
       "2013-11-01 18:00:00 3,636.00\n",
       "2013-11-01 19:00:00 3,501.00\n",
       "2013-11-01 20:00:00 3,345.00\n",
       "2013-11-01 21:00:00 3,131.00\n",
       "2013-11-01 22:00:00 2,883.00\n",
       "2013-11-01 23:00:00 2,626.00\n",
       "2013-11-02 00:00:00 2,447.00"
      ]
     },
     "execution_count": 28,
     "metadata": {},
     "output_type": "execute_result"
    }
   ],
   "source": [
    "ts_data_load.truncate(before=\"2013-11-01\", after=\"2013-11-02\")"
   ]
  },
  {
   "cell_type": "markdown",
   "metadata": {},
   "source": [
    "### Frequency conversion"
   ]
  },
  {
   "cell_type": "code",
   "execution_count": 29,
   "metadata": {},
   "outputs": [
    {
     "data": {
      "text/html": [
       "<div>\n",
       "<style scoped>\n",
       "    .dataframe tbody tr th:only-of-type {\n",
       "        vertical-align: middle;\n",
       "    }\n",
       "\n",
       "    .dataframe tbody tr th {\n",
       "        vertical-align: top;\n",
       "    }\n",
       "\n",
       "    .dataframe thead th {\n",
       "        text-align: right;\n",
       "    }\n",
       "</style>\n",
       "<table border=\"1\" class=\"dataframe\">\n",
       "  <thead>\n",
       "    <tr style=\"text-align: right;\">\n",
       "      <th></th>\n",
       "      <th>load</th>\n",
       "      <th>temp</th>\n",
       "    </tr>\n",
       "  </thead>\n",
       "  <tbody>\n",
       "    <tr>\n",
       "      <th>2012-01-01 00:00:00</th>\n",
       "      <td>2,698.00</td>\n",
       "      <td>32.00</td>\n",
       "    </tr>\n",
       "    <tr>\n",
       "      <th>2012-01-01 01:00:00</th>\n",
       "      <td>2,558.00</td>\n",
       "      <td>32.67</td>\n",
       "    </tr>\n",
       "    <tr>\n",
       "      <th>2012-01-01 02:00:00</th>\n",
       "      <td>2,444.00</td>\n",
       "      <td>30.00</td>\n",
       "    </tr>\n",
       "    <tr>\n",
       "      <th>2012-01-01 03:00:00</th>\n",
       "      <td>2,402.00</td>\n",
       "      <td>31.00</td>\n",
       "    </tr>\n",
       "    <tr>\n",
       "      <th>2012-01-01 04:00:00</th>\n",
       "      <td>2,403.00</td>\n",
       "      <td>32.00</td>\n",
       "    </tr>\n",
       "    <tr>\n",
       "      <th>2012-01-01 05:00:00</th>\n",
       "      <td>2,453.00</td>\n",
       "      <td>31.33</td>\n",
       "    </tr>\n",
       "    <tr>\n",
       "      <th>2012-01-01 06:00:00</th>\n",
       "      <td>2,560.00</td>\n",
       "      <td>30.00</td>\n",
       "    </tr>\n",
       "    <tr>\n",
       "      <th>2012-01-01 07:00:00</th>\n",
       "      <td>2,719.00</td>\n",
       "      <td>29.00</td>\n",
       "    </tr>\n",
       "    <tr>\n",
       "      <th>2012-01-01 08:00:00</th>\n",
       "      <td>2,916.00</td>\n",
       "      <td>29.00</td>\n",
       "    </tr>\n",
       "    <tr>\n",
       "      <th>2012-01-01 09:00:00</th>\n",
       "      <td>3,105.00</td>\n",
       "      <td>33.33</td>\n",
       "    </tr>\n",
       "  </tbody>\n",
       "</table>\n",
       "</div>"
      ],
      "text/plain": [
       "                        load  temp\n",
       "2012-01-01 00:00:00 2,698.00 32.00\n",
       "2012-01-01 01:00:00 2,558.00 32.67\n",
       "2012-01-01 02:00:00 2,444.00 30.00\n",
       "2012-01-01 03:00:00 2,402.00 31.00\n",
       "2012-01-01 04:00:00 2,403.00 32.00\n",
       "2012-01-01 05:00:00 2,453.00 31.33\n",
       "2012-01-01 06:00:00 2,560.00 30.00\n",
       "2012-01-01 07:00:00 2,719.00 29.00\n",
       "2012-01-01 08:00:00 2,916.00 29.00\n",
       "2012-01-01 09:00:00 3,105.00 33.33"
      ]
     },
     "execution_count": 29,
     "metadata": {},
     "output_type": "execute_result"
    }
   ],
   "source": [
    "ts_data = load_data(data_dir)\n",
    "ts_data.head(10)"
   ]
  },
  {
   "cell_type": "code",
   "execution_count": 30,
   "metadata": {},
   "outputs": [
    {
     "data": {
      "text/html": [
       "<div>\n",
       "<style scoped>\n",
       "    .dataframe tbody tr th:only-of-type {\n",
       "        vertical-align: middle;\n",
       "    }\n",
       "\n",
       "    .dataframe tbody tr th {\n",
       "        vertical-align: top;\n",
       "    }\n",
       "\n",
       "    .dataframe thead th {\n",
       "        text-align: right;\n",
       "    }\n",
       "</style>\n",
       "<table border=\"1\" class=\"dataframe\">\n",
       "  <thead>\n",
       "    <tr style=\"text-align: right;\">\n",
       "      <th></th>\n",
       "      <th>load</th>\n",
       "      <th>temp</th>\n",
       "    </tr>\n",
       "  </thead>\n",
       "  <tbody>\n",
       "    <tr>\n",
       "      <th>2012-01-02</th>\n",
       "      <td>2,458.00</td>\n",
       "      <td>43.67</td>\n",
       "    </tr>\n",
       "    <tr>\n",
       "      <th>2012-01-03</th>\n",
       "      <td>2,780.00</td>\n",
       "      <td>26.33</td>\n",
       "    </tr>\n",
       "    <tr>\n",
       "      <th>2012-01-04</th>\n",
       "      <td>3,184.00</td>\n",
       "      <td>6.00</td>\n",
       "    </tr>\n",
       "    <tr>\n",
       "      <th>2012-01-05</th>\n",
       "      <td>3,014.00</td>\n",
       "      <td>22.33</td>\n",
       "    </tr>\n",
       "    <tr>\n",
       "      <th>2012-01-06</th>\n",
       "      <td>2,992.00</td>\n",
       "      <td>17.00</td>\n",
       "    </tr>\n",
       "  </tbody>\n",
       "</table>\n",
       "</div>"
      ],
      "text/plain": [
       "               load  temp\n",
       "2012-01-02 2,458.00 43.67\n",
       "2012-01-03 2,780.00 26.33\n",
       "2012-01-04 3,184.00  6.00\n",
       "2012-01-05 3,014.00 22.33\n",
       "2012-01-06 2,992.00 17.00"
      ]
     },
     "execution_count": 30,
     "metadata": {},
     "output_type": "execute_result"
    }
   ],
   "source": [
    "daily_ts_data = ts_data.asfreq(pd.offsets.BDay())\n",
    "daily_ts_data.head(5)"
   ]
  },
  {
   "cell_type": "code",
   "execution_count": 31,
   "metadata": {},
   "outputs": [
    {
     "data": {
      "text/html": [
       "<div>\n",
       "<style scoped>\n",
       "    .dataframe tbody tr th:only-of-type {\n",
       "        vertical-align: middle;\n",
       "    }\n",
       "\n",
       "    .dataframe tbody tr th {\n",
       "        vertical-align: top;\n",
       "    }\n",
       "\n",
       "    .dataframe thead th {\n",
       "        text-align: right;\n",
       "    }\n",
       "</style>\n",
       "<table border=\"1\" class=\"dataframe\">\n",
       "  <thead>\n",
       "    <tr style=\"text-align: right;\">\n",
       "      <th></th>\n",
       "      <th>load</th>\n",
       "      <th>temp</th>\n",
       "    </tr>\n",
       "  </thead>\n",
       "  <tbody>\n",
       "    <tr>\n",
       "      <th>2012-01-02</th>\n",
       "      <td>2,458.00</td>\n",
       "      <td>43.67</td>\n",
       "    </tr>\n",
       "    <tr>\n",
       "      <th>2012-01-03</th>\n",
       "      <td>2,780.00</td>\n",
       "      <td>26.33</td>\n",
       "    </tr>\n",
       "    <tr>\n",
       "      <th>2012-01-04</th>\n",
       "      <td>3,184.00</td>\n",
       "      <td>6.00</td>\n",
       "    </tr>\n",
       "    <tr>\n",
       "      <th>2012-01-05</th>\n",
       "      <td>3,014.00</td>\n",
       "      <td>22.33</td>\n",
       "    </tr>\n",
       "    <tr>\n",
       "      <th>2012-01-06</th>\n",
       "      <td>2,992.00</td>\n",
       "      <td>17.00</td>\n",
       "    </tr>\n",
       "  </tbody>\n",
       "</table>\n",
       "</div>"
      ],
      "text/plain": [
       "               load  temp\n",
       "2012-01-02 2,458.00 43.67\n",
       "2012-01-03 2,780.00 26.33\n",
       "2012-01-04 3,184.00  6.00\n",
       "2012-01-05 3,014.00 22.33\n",
       "2012-01-06 2,992.00 17.00"
      ]
     },
     "execution_count": 31,
     "metadata": {},
     "output_type": "execute_result"
    }
   ],
   "source": [
    "daily_ts_data.asfreq(pd.offsets.BDay(), method=\"pad\")\n",
    "daily_ts_data.head(5)"
   ]
  },
  {
   "cell_type": "markdown",
   "metadata": {},
   "source": [
    "# Time series exploration and understanding"
   ]
  },
  {
   "cell_type": "markdown",
   "metadata": {},
   "source": [
    "## How to get started with time series data analysis"
   ]
  },
  {
   "cell_type": "code",
   "execution_count": 32,
   "metadata": {},
   "outputs": [],
   "source": [
    "import warnings\n",
    "import matplotlib\n",
    "import matplotlib.dates as mdates\n",
    "import matplotlib.pyplot as plt\n",
    "import statsmodels.api as sm\n",
    "\n",
    "%matplotlib inline\n",
    "\n",
    "warnings.filterwarnings(\"ignore\")"
   ]
  },
  {
   "cell_type": "code",
   "execution_count": 33,
   "metadata": {},
   "outputs": [
    {
     "data": {
      "text/plain": [
       "load    0\n",
       "temp    0\n",
       "dtype: int64"
      ]
     },
     "execution_count": 33,
     "metadata": {},
     "output_type": "execute_result"
    }
   ],
   "source": [
    "ts_data.isna().sum()"
   ]
  },
  {
   "cell_type": "code",
   "execution_count": 34,
   "metadata": {},
   "outputs": [
    {
     "data": {
      "text/plain": [
       "load    float64\n",
       "temp    float64\n",
       "dtype: object"
      ]
     },
     "execution_count": 34,
     "metadata": {},
     "output_type": "execute_result"
    }
   ],
   "source": [
    "ts_data.dtypes"
   ]
  },
  {
   "cell_type": "code",
   "execution_count": 35,
   "metadata": {},
   "outputs": [
    {
     "data": {
      "text/html": [
       "<div>\n",
       "<style scoped>\n",
       "    .dataframe tbody tr th:only-of-type {\n",
       "        vertical-align: middle;\n",
       "    }\n",
       "\n",
       "    .dataframe tbody tr th {\n",
       "        vertical-align: top;\n",
       "    }\n",
       "\n",
       "    .dataframe thead th {\n",
       "        text-align: right;\n",
       "    }\n",
       "</style>\n",
       "<table border=\"1\" class=\"dataframe\">\n",
       "  <thead>\n",
       "    <tr style=\"text-align: right;\">\n",
       "      <th></th>\n",
       "      <th>load</th>\n",
       "      <th>temp</th>\n",
       "    </tr>\n",
       "  </thead>\n",
       "  <tbody>\n",
       "    <tr>\n",
       "      <th>count</th>\n",
       "      <td>26,304.00</td>\n",
       "      <td>26,304.00</td>\n",
       "    </tr>\n",
       "    <tr>\n",
       "      <th>mean</th>\n",
       "      <td>3,303.77</td>\n",
       "      <td>47.77</td>\n",
       "    </tr>\n",
       "    <tr>\n",
       "      <th>std</th>\n",
       "      <td>564.58</td>\n",
       "      <td>19.34</td>\n",
       "    </tr>\n",
       "    <tr>\n",
       "      <th>min</th>\n",
       "      <td>1,979.00</td>\n",
       "      <td>-13.67</td>\n",
       "    </tr>\n",
       "    <tr>\n",
       "      <th>25%</th>\n",
       "      <td>2,867.00</td>\n",
       "      <td>32.67</td>\n",
       "    </tr>\n",
       "    <tr>\n",
       "      <th>50%</th>\n",
       "      <td>3,364.00</td>\n",
       "      <td>48.33</td>\n",
       "    </tr>\n",
       "    <tr>\n",
       "      <th>75%</th>\n",
       "      <td>3,690.00</td>\n",
       "      <td>63.67</td>\n",
       "    </tr>\n",
       "    <tr>\n",
       "      <th>max</th>\n",
       "      <td>5,224.00</td>\n",
       "      <td>95.00</td>\n",
       "    </tr>\n",
       "  </tbody>\n",
       "</table>\n",
       "</div>"
      ],
      "text/plain": [
       "           load      temp\n",
       "count 26,304.00 26,304.00\n",
       "mean   3,303.77     47.77\n",
       "std      564.58     19.34\n",
       "min    1,979.00    -13.67\n",
       "25%    2,867.00     32.67\n",
       "50%    3,364.00     48.33\n",
       "75%    3,690.00     63.67\n",
       "max    5,224.00     95.00"
      ]
     },
     "execution_count": 35,
     "metadata": {},
     "output_type": "execute_result"
    }
   ],
   "source": [
    "ts_data.describe()"
   ]
  },
  {
   "cell_type": "code",
   "execution_count": 36,
   "metadata": {},
   "outputs": [
    {
     "data": {
      "image/png": "[encoded data removed]",
      "text/plain": [
       "<Figure size 432x288 with 4 Axes>"
      ]
     },
     "metadata": {
      "needs_background": "light"
     },
     "output_type": "display_data"
    }
   ],
   "source": [
    "ts_data_load = ts_data[\"load\"]\n",
    "decomposition = sm.tsa.seasonal_decompose(\n",
    "    ts_data_load[\"2012-07-01\":\"2012-12-31\"], model=\"additive\"\n",
    ")\n",
    "\n",
    "fig = decomposition.plot()\n",
    "matplotlib.rcParams[\"figure.figsize\"] = [10.0, 6.0]"
   ]
  },
  {
   "cell_type": "code",
   "execution_count": 37,
   "metadata": {},
   "outputs": [
    {
     "data": {
      "text/plain": [
       "[<matplotlib.lines.Line2D at 0x16a4048bbc8>]"
      ]
     },
     "execution_count": 37,
     "metadata": {},
     "output_type": "execute_result"
    },
    {
     "data": {
      "image/png": "[encoded data removed]",
      "text/plain": [
       "<Figure size 720x432 with 1 Axes>"
      ]
     },
     "metadata": {
      "needs_background": "light"
     },
     "output_type": "display_data"
    }
   ],
   "source": [
    "decomposition = sm.tsa.seasonal_decompose(ts_data_load, model=\"additive\")\n",
    "\n",
    "fig, ax = plt.subplots()\n",
    "ax.grid(True)\n",
    "\n",
    "year = mdates.YearLocator(month=1)\n",
    "month = mdates.MonthLocator(interval=1)\n",
    "\n",
    "year_format = mdates.DateFormatter(\"%Y\")\n",
    "month_format = mdates.DateFormatter(\"%m\")\n",
    "\n",
    "ax.xaxis.set_minor_locator(month)\n",
    "ax.xaxis.grid(True, which=\"minor\")\n",
    "ax.xaxis.set_major_locator(year)\n",
    "ax.xaxis.set_major_formatter(year_format)\n",
    "\n",
    "plt.plot(ts_data_load.index, ts_data_load, c=\"blue\")\n",
    "plt.plot(decomposition.trend.index, decomposition.trend, c=\"yellow\")"
   ]
  },
  {
   "cell_type": "markdown",
   "metadata": {},
   "source": [
    "## Data Cleaning of Missing Values in the Time Series"
   ]
  },
  {
   "cell_type": "code",
   "execution_count": 38,
   "metadata": {},
   "outputs": [
    {
     "data": {
      "text/plain": [
       "2012-01-01 00:00:00   2,698.00\n",
       "2012-01-01 01:00:00   2,558.00\n",
       "2012-01-01 02:00:00   2,444.00\n",
       "2012-01-01 03:00:00   2,402.00\n",
       "2012-01-01 04:00:00   2,403.00\n",
       "                        ...   \n",
       "2014-12-31 19:00:00   4,012.00\n",
       "2014-12-31 20:00:00   3,856.00\n",
       "2014-12-31 21:00:00   3,671.00\n",
       "2014-12-31 22:00:00   3,499.00\n",
       "2014-12-31 23:00:00   3,345.00\n",
       "Freq: H, Name: load, Length: 26304, dtype: float64"
      ]
     },
     "execution_count": 38,
     "metadata": {},
     "output_type": "execute_result"
    }
   ],
   "source": [
    "ts_data_load.interpolate(limit=8, method=\"linear\", limit_direction=\"both\")"
   ]
  },
  {
   "cell_type": "code",
   "execution_count": 39,
   "metadata": {},
   "outputs": [],
   "source": [
    "from scipy import stats"
   ]
  },
  {
   "cell_type": "code",
   "execution_count": 40,
   "metadata": {},
   "outputs": [
    {
     "data": {
      "text/plain": [
       "load    0\n",
       "temp    0\n",
       "dtype: int64"
      ]
     },
     "execution_count": 40,
     "metadata": {},
     "output_type": "execute_result"
    }
   ],
   "source": [
    "temp_mode = np.asscalar(stats.mode(ts_data[\"temp\"]).mode)\n",
    "ts_data[\"temp\"] = ts_data[\"temp\"].fillna(temp_mode)\n",
    "ts_data.isnull().sum()"
   ]
  },
  {
   "cell_type": "markdown",
   "metadata": {},
   "source": [
    "### Time Series Data Normalization and Standardization"
   ]
  },
  {
   "cell_type": "code",
   "execution_count": 41,
   "metadata": {},
   "outputs": [
    {
     "name": "stdout",
     "output_type": "stream",
     "text": [
      "Min: 1979.000000, Max: 5224.000000\n"
     ]
    }
   ],
   "source": [
    "from pandas import Series\n",
    "from sklearn.preprocessing import MinMaxScaler\n",
    "\n",
    "values = ts_data_load.values\n",
    "values = values.reshape((len(values), 1))\n",
    "\n",
    "scaler = MinMaxScaler(feature_range=(0, 1))\n",
    "scaler = scaler.fit(values)\n",
    "print(\"Min: %f, Max: %f\" % (scaler.data_min_, scaler.data_max_))"
   ]
  },
  {
   "cell_type": "code",
   "execution_count": 42,
   "metadata": {},
   "outputs": [
    {
     "name": "stdout",
     "output_type": "stream",
     "text": [
      "[0.22]\n",
      "[0.18]\n",
      "[0.14]\n",
      "[0.13]\n",
      "[0.13]\n",
      "[2698.]\n",
      "[2558.]\n",
      "[2444.]\n",
      "[2402.]\n",
      "[2403.]\n"
     ]
    }
   ],
   "source": [
    "normalized = scaler.transform(values)\n",
    "for i in range(5):\n",
    "    print(normalized[i])\n",
    "\n",
    "inversed = scaler.inverse_transform(normalized)\n",
    "for i in range(5):\n",
    "    print(inversed[i])\n",
    "\n",
    "from math import sqrt"
   ]
  },
  {
   "cell_type": "code",
   "execution_count": 43,
   "metadata": {},
   "outputs": [
    {
     "name": "stdout",
     "output_type": "stream",
     "text": [
      "Mean: 3303.769199, StandardDeviation: 564.568521\n"
     ]
    }
   ],
   "source": [
    "from sklearn.preprocessing import StandardScaler\n",
    "\n",
    "values = ts_data_load.values\n",
    "values = values.reshape((len(values), 1))\n",
    "\n",
    "scaler = StandardScaler()\n",
    "scaler = scaler.fit(values)\n",
    "print(\"Mean: %f, StandardDeviation: %f\" % (scaler.mean_, sqrt(scaler.var_)))"
   ]
  },
  {
   "cell_type": "code",
   "execution_count": 44,
   "metadata": {},
   "outputs": [
    {
     "name": "stdout",
     "output_type": "stream",
     "text": [
      "[-1.07]\n",
      "[-1.32]\n",
      "[-1.52]\n",
      "[-1.6]\n",
      "[-1.6]\n",
      "[2698.]\n",
      "[2558.]\n",
      "[2444.]\n",
      "[2402.]\n",
      "[2403.]\n"
     ]
    }
   ],
   "source": [
    "normalized = scaler.transform(values)\n",
    "for i in range(5):\n",
    "    print(normalized[i])\n",
    "\n",
    "inversed = scaler.inverse_transform(normalized)\n",
    "for i in range(5):\n",
    "    print(inversed[i])"
   ]
  },
  {
   "cell_type": "markdown",
   "metadata": {},
   "source": [
    "## Time series feature engineering"
   ]
  },
  {
   "cell_type": "markdown",
   "metadata": {},
   "source": [
    "### Date Time Features"
   ]
  },
  {
   "cell_type": "code",
   "execution_count": 45,
   "metadata": {},
   "outputs": [
    {
     "name": "stdout",
     "output_type": "stream",
     "text": [
      "                        load  temp  hour  month  dayofweek\n",
      "2012-01-01 00:00:00 2,698.00 32.00     0      1          1\n",
      "2012-01-01 01:00:00 2,558.00 32.67     1      1          1\n",
      "2012-01-01 02:00:00 2,444.00 30.00     2      1          1\n",
      "2012-01-01 03:00:00 2,402.00 31.00     3      1          1\n",
      "2012-01-01 04:00:00 2,403.00 32.00     4      1          1\n"
     ]
    }
   ],
   "source": [
    "ts_data[\"hour\"] = [ts_data.index[i].hour for i in range(len(ts_data))]\n",
    "ts_data[\"month\"] = [ts_data.index[i].month for i in range(len(ts_data))]\n",
    "ts_data[\"dayofweek\"] = [ts_data.index[i].day for i in range(len(ts_data))]\n",
    "print(ts_data.head(5))"
   ]
  },
  {
   "cell_type": "markdown",
   "metadata": {},
   "source": [
    "### Lagged Features"
   ]
  },
  {
   "cell_type": "markdown",
   "metadata": {},
   "source": [
    "####  Shift function with DateOffset class and offset alias"
   ]
  },
  {
   "cell_type": "code",
   "execution_count": 46,
   "metadata": {},
   "outputs": [
    {
     "data": {
      "text/html": [
       "<div>\n",
       "<style scoped>\n",
       "    .dataframe tbody tr th:only-of-type {\n",
       "        vertical-align: middle;\n",
       "    }\n",
       "\n",
       "    .dataframe tbody tr th {\n",
       "        vertical-align: top;\n",
       "    }\n",
       "\n",
       "    .dataframe thead th {\n",
       "        text-align: right;\n",
       "    }\n",
       "</style>\n",
       "<table border=\"1\" class=\"dataframe\">\n",
       "  <thead>\n",
       "    <tr style=\"text-align: right;\">\n",
       "      <th></th>\n",
       "      <th>load</th>\n",
       "      <th>temp</th>\n",
       "    </tr>\n",
       "  </thead>\n",
       "  <tbody>\n",
       "    <tr>\n",
       "      <th>2012-01-01 00:00:00</th>\n",
       "      <td>2,698.00</td>\n",
       "      <td>32.00</td>\n",
       "    </tr>\n",
       "    <tr>\n",
       "      <th>2012-01-01 01:00:00</th>\n",
       "      <td>2,558.00</td>\n",
       "      <td>32.67</td>\n",
       "    </tr>\n",
       "    <tr>\n",
       "      <th>2012-01-01 02:00:00</th>\n",
       "      <td>2,444.00</td>\n",
       "      <td>30.00</td>\n",
       "    </tr>\n",
       "    <tr>\n",
       "      <th>2012-01-01 03:00:00</th>\n",
       "      <td>2,402.00</td>\n",
       "      <td>31.00</td>\n",
       "    </tr>\n",
       "    <tr>\n",
       "      <th>2012-01-01 04:00:00</th>\n",
       "      <td>2,403.00</td>\n",
       "      <td>32.00</td>\n",
       "    </tr>\n",
       "    <tr>\n",
       "      <th>2012-01-01 05:00:00</th>\n",
       "      <td>2,453.00</td>\n",
       "      <td>31.33</td>\n",
       "    </tr>\n",
       "    <tr>\n",
       "      <th>2012-01-01 06:00:00</th>\n",
       "      <td>2,560.00</td>\n",
       "      <td>30.00</td>\n",
       "    </tr>\n",
       "    <tr>\n",
       "      <th>2012-01-01 07:00:00</th>\n",
       "      <td>2,719.00</td>\n",
       "      <td>29.00</td>\n",
       "    </tr>\n",
       "    <tr>\n",
       "      <th>2012-01-01 08:00:00</th>\n",
       "      <td>2,916.00</td>\n",
       "      <td>29.00</td>\n",
       "    </tr>\n",
       "    <tr>\n",
       "      <th>2012-01-01 09:00:00</th>\n",
       "      <td>3,105.00</td>\n",
       "      <td>33.33</td>\n",
       "    </tr>\n",
       "  </tbody>\n",
       "</table>\n",
       "</div>"
      ],
      "text/plain": [
       "                        load  temp\n",
       "2012-01-01 00:00:00 2,698.00 32.00\n",
       "2012-01-01 01:00:00 2,558.00 32.67\n",
       "2012-01-01 02:00:00 2,444.00 30.00\n",
       "2012-01-01 03:00:00 2,402.00 31.00\n",
       "2012-01-01 04:00:00 2,403.00 32.00\n",
       "2012-01-01 05:00:00 2,453.00 31.33\n",
       "2012-01-01 06:00:00 2,560.00 30.00\n",
       "2012-01-01 07:00:00 2,719.00 29.00\n",
       "2012-01-01 08:00:00 2,916.00 29.00\n",
       "2012-01-01 09:00:00 3,105.00 33.33"
      ]
     },
     "execution_count": 46,
     "metadata": {},
     "output_type": "execute_result"
    }
   ],
   "source": [
    "ts_data = load_data(data_dir)\n",
    "ts_data.head(10)"
   ]
  },
  {
   "cell_type": "code",
   "execution_count": 47,
   "metadata": {},
   "outputs": [
    {
     "data": {
      "text/html": [
       "<div>\n",
       "<style scoped>\n",
       "    .dataframe tbody tr th:only-of-type {\n",
       "        vertical-align: middle;\n",
       "    }\n",
       "\n",
       "    .dataframe tbody tr th {\n",
       "        vertical-align: top;\n",
       "    }\n",
       "\n",
       "    .dataframe thead th {\n",
       "        text-align: right;\n",
       "    }\n",
       "</style>\n",
       "<table border=\"1\" class=\"dataframe\">\n",
       "  <thead>\n",
       "    <tr style=\"text-align: right;\">\n",
       "      <th></th>\n",
       "      <th>load</th>\n",
       "      <th>temp</th>\n",
       "    </tr>\n",
       "  </thead>\n",
       "  <tbody>\n",
       "    <tr>\n",
       "      <th>2012-01-05 00:00:00</th>\n",
       "      <td>2,698.00</td>\n",
       "      <td>32.00</td>\n",
       "    </tr>\n",
       "    <tr>\n",
       "      <th>2012-01-05 01:00:00</th>\n",
       "      <td>2,558.00</td>\n",
       "      <td>32.67</td>\n",
       "    </tr>\n",
       "    <tr>\n",
       "      <th>2012-01-05 02:00:00</th>\n",
       "      <td>2,444.00</td>\n",
       "      <td>30.00</td>\n",
       "    </tr>\n",
       "    <tr>\n",
       "      <th>2012-01-05 03:00:00</th>\n",
       "      <td>2,402.00</td>\n",
       "      <td>31.00</td>\n",
       "    </tr>\n",
       "    <tr>\n",
       "      <th>2012-01-05 04:00:00</th>\n",
       "      <td>2,403.00</td>\n",
       "      <td>32.00</td>\n",
       "    </tr>\n",
       "  </tbody>\n",
       "</table>\n",
       "</div>"
      ],
      "text/plain": [
       "                        load  temp\n",
       "2012-01-05 00:00:00 2,698.00 32.00\n",
       "2012-01-05 01:00:00 2,558.00 32.67\n",
       "2012-01-05 02:00:00 2,444.00 30.00\n",
       "2012-01-05 03:00:00 2,402.00 31.00\n",
       "2012-01-05 04:00:00 2,403.00 32.00"
      ]
     },
     "execution_count": 47,
     "metadata": {},
     "output_type": "execute_result"
    }
   ],
   "source": [
    "ts_data_shift = ts_data.shift(4, freq=pd.offsets.BDay())\n",
    "ts_data_shift.head(5)"
   ]
  },
  {
   "cell_type": "code",
   "execution_count": 48,
   "metadata": {
    "lines_to_next_cell": 2
   },
   "outputs": [
    {
     "data": {
      "text/html": [
       "<div>\n",
       "<style scoped>\n",
       "    .dataframe tbody tr th:only-of-type {\n",
       "        vertical-align: middle;\n",
       "    }\n",
       "\n",
       "    .dataframe tbody tr th {\n",
       "        vertical-align: top;\n",
       "    }\n",
       "\n",
       "    .dataframe thead th {\n",
       "        text-align: right;\n",
       "    }\n",
       "</style>\n",
       "<table border=\"1\" class=\"dataframe\">\n",
       "  <thead>\n",
       "    <tr style=\"text-align: right;\">\n",
       "      <th></th>\n",
       "      <th>load</th>\n",
       "      <th>temp</th>\n",
       "    </tr>\n",
       "  </thead>\n",
       "  <tbody>\n",
       "    <tr>\n",
       "      <th>2012-01-07 00:00:00</th>\n",
       "      <td>2,698.00</td>\n",
       "      <td>32.00</td>\n",
       "    </tr>\n",
       "    <tr>\n",
       "      <th>2012-01-07 01:00:00</th>\n",
       "      <td>2,558.00</td>\n",
       "      <td>32.67</td>\n",
       "    </tr>\n",
       "    <tr>\n",
       "      <th>2012-01-07 02:00:00</th>\n",
       "      <td>2,444.00</td>\n",
       "      <td>30.00</td>\n",
       "    </tr>\n",
       "    <tr>\n",
       "      <th>2012-01-07 03:00:00</th>\n",
       "      <td>2,402.00</td>\n",
       "      <td>31.00</td>\n",
       "    </tr>\n",
       "    <tr>\n",
       "      <th>2012-01-07 04:00:00</th>\n",
       "      <td>2,403.00</td>\n",
       "      <td>32.00</td>\n",
       "    </tr>\n",
       "  </tbody>\n",
       "</table>\n",
       "</div>"
      ],
      "text/plain": [
       "                        load  temp\n",
       "2012-01-07 00:00:00 2,698.00 32.00\n",
       "2012-01-07 01:00:00 2,558.00 32.67\n",
       "2012-01-07 02:00:00 2,444.00 30.00\n",
       "2012-01-07 03:00:00 2,402.00 31.00\n",
       "2012-01-07 04:00:00 2,403.00 32.00"
      ]
     },
     "execution_count": 48,
     "metadata": {},
     "output_type": "execute_result"
    }
   ],
   "source": [
    "ts_data_shift_2 = ts_data.tshift(6, freq=\"D\")\n",
    "ts_data_shift_2.head(5)"
   ]
  },
  {
   "cell_type": "markdown",
   "metadata": {
    "lines_to_next_cell": 2
   },
   "source": [
    "#### Shift() function"
   ]
  },
  {
   "cell_type": "code",
   "execution_count": 49,
   "metadata": {},
   "outputs": [],
   "source": [
    "def generated_lagged_features(ts_data, var, max_lag):\n",
    "    for t in range(1, max_lag + 1):\n",
    "        ts_data[var + \"_lag\" + str(t)] = ts_data[var].shift(t, freq=\"1H\")"
   ]
  },
  {
   "cell_type": "code",
   "execution_count": 50,
   "metadata": {},
   "outputs": [
    {
     "name": "stdout",
     "output_type": "stream",
     "text": [
      "                        load  temp  load_lag1  load_lag2  load_lag3  \\\n",
      "2012-01-01 00:00:00 2,698.00 32.00        NaN        NaN        NaN   \n",
      "2012-01-01 01:00:00 2,558.00 32.67   2,698.00        NaN        NaN   \n",
      "2012-01-01 02:00:00 2,444.00 30.00   2,558.00   2,698.00        NaN   \n",
      "2012-01-01 03:00:00 2,402.00 31.00   2,444.00   2,558.00   2,698.00   \n",
      "2012-01-01 04:00:00 2,403.00 32.00   2,402.00   2,444.00   2,558.00   \n",
      "\n",
      "                     load_lag4  load_lag5  load_lag6  load_lag7  load_lag8  \\\n",
      "2012-01-01 00:00:00        NaN        NaN        NaN        NaN        NaN   \n",
      "2012-01-01 01:00:00        NaN        NaN        NaN        NaN        NaN   \n",
      "2012-01-01 02:00:00        NaN        NaN        NaN        NaN        NaN   \n",
      "2012-01-01 03:00:00        NaN        NaN        NaN        NaN        NaN   \n",
      "2012-01-01 04:00:00   2,698.00        NaN        NaN        NaN        NaN   \n",
      "\n",
      "                     temp_lag1  temp_lag2  temp_lag3  temp_lag4  temp_lag5  \\\n",
      "2012-01-01 00:00:00        NaN        NaN        NaN        NaN        NaN   \n",
      "2012-01-01 01:00:00      32.00        NaN        NaN        NaN        NaN   \n",
      "2012-01-01 02:00:00      32.67      32.00        NaN        NaN        NaN   \n",
      "2012-01-01 03:00:00      30.00      32.67      32.00        NaN        NaN   \n",
      "2012-01-01 04:00:00      31.00      30.00      32.67      32.00        NaN   \n",
      "\n",
      "                     temp_lag6  temp_lag7  temp_lag8  \n",
      "2012-01-01 00:00:00        NaN        NaN        NaN  \n",
      "2012-01-01 01:00:00        NaN        NaN        NaN  \n",
      "2012-01-01 02:00:00        NaN        NaN        NaN  \n",
      "2012-01-01 03:00:00        NaN        NaN        NaN  \n",
      "2012-01-01 04:00:00        NaN        NaN        NaN  \n"
     ]
    }
   ],
   "source": [
    "generated_lagged_features(ts_data, \"load\", 8)\n",
    "generated_lagged_features(ts_data, \"temp\", 8)\n",
    "print(ts_data.head(5))"
   ]
  },
  {
   "cell_type": "markdown",
   "metadata": {},
   "source": [
    "### Rolling Window Statistics"
   ]
  },
  {
   "cell_type": "code",
   "execution_count": 51,
   "metadata": {},
   "outputs": [
    {
     "name": "stdout",
     "output_type": "stream",
     "text": [
      "                     load_rol_mean     load\n",
      "2012-01-01 00:00:00            NaN 2,698.00\n",
      "2012-01-01 01:00:00            NaN 2,558.00\n",
      "2012-01-01 02:00:00            NaN 2,444.00\n",
      "2012-01-01 03:00:00            NaN 2,402.00\n",
      "2012-01-01 04:00:00            NaN 2,403.00\n",
      "2012-01-01 05:00:00            NaN 2,453.00\n",
      "2012-01-01 06:00:00       2,493.00 2,560.00\n",
      "2012-01-01 07:00:00       2,470.00 2,719.00\n",
      "2012-01-01 08:00:00       2,496.83 2,916.00\n",
      "2012-01-01 09:00:00       2,575.50 3,105.00\n"
     ]
    }
   ],
   "source": [
    "from pandas import concat\n",
    "\n",
    "load_val = ts_data[[\"load\"]]\n",
    "shifted = load_val.shift(1)\n",
    "\n",
    "window = shifted.rolling(window=6)\n",
    "means = window.mean()\n",
    "new_dataframe = concat([means, load_val], axis=1)\n",
    "new_dataframe.columns = [\"load_rol_mean\", \"load\"]\n",
    "\n",
    "print(new_dataframe.head(10))"
   ]
  },
  {
   "cell_type": "code",
   "execution_count": 52,
   "metadata": {},
   "outputs": [
    {
     "name": "stdout",
     "output_type": "stream",
     "text": [
      "                         min     mean      max     load\n",
      "2012-01-01 00:00:00      NaN      NaN      NaN 2,698.00\n",
      "2012-01-01 01:00:00      NaN      NaN      NaN 2,558.00\n",
      "2012-01-01 02:00:00      NaN      NaN      NaN 2,444.00\n",
      "2012-01-01 03:00:00      NaN      NaN      NaN 2,402.00\n",
      "2012-01-01 04:00:00      NaN      NaN      NaN 2,403.00\n",
      "2012-01-01 05:00:00      NaN      NaN      NaN 2,453.00\n",
      "2012-01-01 06:00:00 2,402.00 2,525.50 2,698.00 2,560.00\n",
      "2012-01-01 07:00:00 2,402.00 2,451.75 2,558.00 2,719.00\n",
      "2012-01-01 08:00:00 2,402.00 2,425.50 2,453.00 2,916.00\n",
      "2012-01-01 09:00:00 2,402.00 2,454.50 2,560.00 3,105.00\n"
     ]
    }
   ],
   "source": [
    "from pandas import concat\n",
    "\n",
    "load_val = ts_data[[\"load\"]]\n",
    "width = 4\n",
    "shifted = load_val.shift(width - 1)\n",
    "window = shifted.rolling(window=width)\n",
    "\n",
    "new_dataframe = pd.concat([window.min(), window.mean(), window.max(), load_val], axis=1)\n",
    "new_dataframe.columns = [\"min\", \"mean\", \"max\", \"load\"]\n",
    "\n",
    "print(new_dataframe.head(10))"
   ]
  },
  {
   "cell_type": "markdown",
   "metadata": {},
   "source": [
    "### Expanding Window Statistics"
   ]
  },
  {
   "cell_type": "code",
   "execution_count": 53,
   "metadata": {},
   "outputs": [
    {
     "name": "stdout",
     "output_type": "stream",
     "text": [
      "                         min     mean      max   load+1\n",
      "2012-01-01 00:00:00 2,698.00 2,698.00 2,698.00 2,558.00\n",
      "2012-01-01 01:00:00 2,558.00 2,628.00 2,698.00 2,444.00\n",
      "2012-01-01 02:00:00 2,444.00 2,566.67 2,698.00 2,402.00\n",
      "2012-01-01 03:00:00 2,402.00 2,525.50 2,698.00 2,403.00\n",
      "2012-01-01 04:00:00 2,402.00 2,501.00 2,698.00 2,453.00\n",
      "2012-01-01 05:00:00 2,402.00 2,493.00 2,698.00 2,560.00\n",
      "2012-01-01 06:00:00 2,402.00 2,502.57 2,698.00 2,719.00\n",
      "2012-01-01 07:00:00 2,402.00 2,529.62 2,719.00 2,916.00\n",
      "2012-01-01 08:00:00 2,402.00 2,572.56 2,916.00 3,105.00\n",
      "2012-01-01 09:00:00 2,402.00 2,625.80 3,105.00 3,174.00\n"
     ]
    }
   ],
   "source": [
    "from pandas import concat\n",
    "\n",
    "load_val = ts_data[[\"load\"]]\n",
    "window = load_val.expanding()\n",
    "new_dataframe = concat(\n",
    "    [window.min(), window.mean(), window.max(), load_val.shift(-1)], axis=1\n",
    ")\n",
    "new_dataframe.columns = [\"min\", \"mean\", \"max\", \"load+1\"]\n",
    "print(new_dataframe.head(10))"
   ]
  }
 ],
 "metadata": {
  "interpreter": {
   "hash": "01c20e9562db995ad815f922c62afb66cd3ecddc30a0bd4a9d6caf5377bec388"
  },
  "jupytext": {
   "formats": "ipynb,py:light"
  },
  "kernel_info": {
   "name": "python3-azureml"
  },
  "kernelspec": {
   "display_name": "Python 3.6 - AzureML",
   "language": "python",
   "name": "python3"
  },
  "language_info": {
   "codemirror_mode": {
    "name": "ipython",
    "version": 3
   },
   "file_extension": ".py",
   "mimetype": "text/x-python",
   "name": "python",
   "nbconvert_exporter": "python",
   "pygments_lexer": "ipython3",
   "version": "3.7.11"
  },
  "nteract": {
   "version": "nteract-front-end@1.0.0"
  }
 },
 "nbformat": 4,
 "nbformat_minor": 4
}
