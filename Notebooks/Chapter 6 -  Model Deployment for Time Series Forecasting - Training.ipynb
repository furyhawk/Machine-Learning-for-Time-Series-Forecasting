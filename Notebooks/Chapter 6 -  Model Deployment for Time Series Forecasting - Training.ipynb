{
  "cells": [
    {
      "cell_type": "markdown",
      "metadata": {},
      "source": [
        "\n",
        " ## Training\n",
        " This script executes a training experiment on Azure ML.\n",
        " Once the data is prepared, you can train a model and see the results on Azure.\n",
        " #### There are several steps to follow:\n",
        " * Configure the workspace\n",
        " * Create an experiment\n",
        " * Create or attach a compute cluster\n",
        " * Upload the data to Azure\n",
        " * Create an estimator\n",
        " * Submit the work to the remote cluster\n",
        " * Register the model"
      ]
    },
    {
      "cell_type": "markdown",
      "metadata": {},
      "source": [
        " Import Azure Machine Learning Python SDK and other modules."
      ]
    },
    {
      "cell_type": "code",
      "execution_count": null,
      "metadata": {},
      "outputs": [],
      "source": [
        "import datetime as dt\n",
        "import math\n",
        "import os\n",
        "import urllib.request\n",
        "import warnings\n",
        "\n",
        "import azureml.core\n",
        "import azureml.dataprep as dprep\n",
        "import matplotlib.pyplot as plt\n",
        "import numpy as np\n",
        "import pandas as pd\n",
        "from azureml.core import Experiment, Workspace\n",
        "from azureml.core.compute import AmlCompute, ComputeTarget\n",
        "from azureml.core.environment import Environment\n",
        "from azureml.train.estimator import Estimator\n",
        "from IPython.display import Image, display\n",
        "from sklearn.preprocessing import MinMaxScaler\n",
        "from statsmodels.tsa.statespace.sarimax import SARIMAX\n",
        "\n",
        "get_ipython().run_line_magic(\"matplotlib\", \"inline\")\n",
        "pd.options.display.float_format = \"{:,.2f}\".format\n",
        "np.set_printoptions(precision=2)\n",
        "warnings.filterwarnings(\"ignore\")  # specify to ignore warning messages"
      ]
    },
    {
      "cell_type": "markdown",
      "metadata": {},
      "source": [
        " ### Configure the workspace\n",
        " Set up your Azure Machine Learning services workspace and configure your notebook library.\n",
        "\n",
        " Make sure that you have the correct version of Azure ML SDK.\n",
        " If that's not the case, you can run:\n",
        " * `!pip install --upgrade azureml-sdk[automl,notebooks,explain]`\n",
        " * `!pip install --upgrade azuremlftk`\n",
        "\n",
        " Then configure your workspace and write the configuration to a [config.json](https://github.com/MicrosoftDocs/azure-docs/blob/master/articles/machine-learning/service/how-to-configure-environment.md#create-a-workspace-configuration-file) file or read your config.json file to get your workspace.\n",
        " As a second option, one can copy the config file from the Azure workspace in an `.azureml` folder.\n",
        "\n",
        " #### In an Azure workspace you will find:\n",
        "   * Experiment results\n",
        "   * Trained models\n",
        "   * Compute targets\n",
        "   * Deployment containers\n",
        "   * Snapshots\n",
        "   * Environments\n",
        "   * and more\n",
        "\n",
        "For more information about the AML services workspace set up, see this [notebook](https://github.com/Azure/MachineLearningNotebooks/blob/master/configuration.ipynb)."
      ]
    },
    {
      "cell_type": "code",
      "execution_count": null,
      "metadata": {},
      "outputs": [],
      "source": [
        "print(\"This notebook was created using version 1.14.0 of the Azure ML SDK\")\n",
        "print(\"You are currently using version\", azureml.core.VERSION, \"of the Azure ML SDK\")"
      ]
    },
    {
      "cell_type": "code",
      "execution_count": null,
      "metadata": {},
      "outputs": [],
      "source": [
        "# # Configure the workspace, if no config file has been downloaded.\n",
        "# # Give your subscription ID, your ressource group, your workspace_name and your workspace_region\n",
        "\n",
        "# subscription_id = os.getenv(\"SUBSCRIPTION_ID\", default=\"d0b8947b-5a39-4d74-944c-48c45b1ccdf3\")\n",
        "# resource_group = os.getenv(\"RESOURCE_GROUP\", default=\"aml\")\n",
        "# workspace_name = os.getenv(\"WORKSPACE_NAME\", default=\"timeseries\")\n",
        "# workspace_region = os.getenv(\"WORKSPACE_REGION\", default=\"centralus\")\n",
        "\n",
        "# try:\n",
        "#     ws = Workspace(subscription_id = subscription_id, resource_group = resource_group, workspace_name = workspace_name)\n",
        "#     # write the details of the workspace to a configuration file to the notebook library\n",
        "#     ws.write_config()\n",
        "#     print(\"Workspace configuration succeeded\")\n",
        "# except:\n",
        "#     print(\"Workspace not accessible. Change your parameters or create a new workspace below\")"
      ]
    },
    {
      "cell_type": "code",
      "execution_count": null,
      "metadata": {},
      "outputs": [],
      "source": [
        "# Or take the configuration of the existing config.json file\n",
        "\n",
        "ws = Workspace.from_config()\n",
        "print(ws.name, ws.resource_group, ws.location, ws.subscription_id, sep=\"\\n\")"
      ]
    },
    {
      "cell_type": "markdown",
      "metadata": {},
      "source": [
        "### Create an environment\n",
        "\n",
        "We'll create an Azure Machine Learning environment which will help us specify requirements for our model training. This will help us ensure that we use the same versions of libraries such as statsmodels across training and serving\n",
        "\n",
        "If the environment already exists, then the environment will be overwritten."
      ]
    },
    {
      "cell_type": "code",
      "execution_count": null,
      "metadata": {},
      "outputs": [],
      "source": [
        "my_azureml_env = Environment.from_conda_specification(\n",
        "    name=\"my_azureml_env\", file_path=\"./energydemandforecasting/azureml-env.yml\"\n",
        ")\n",
        "my_azureml_env.register(workspace=ws)"
      ]
    },
    {
      "cell_type": "markdown",
      "metadata": {},
      "source": [
        " ### Create an experiment\n",
        " We’ll create an Azure Machine Learning experiment which will help keep track of the specific data used,\n",
        " as well as the model training job logs.\n",
        "\n",
        " If the experiment already exists on the selected workspace, the run will be added to the existing experiment. If not, the experiment will be added to the workspace."
      ]
    },
    {
      "cell_type": "code",
      "execution_count": null,
      "metadata": {},
      "outputs": [],
      "source": [
        "experiment_name = \"energydemandforecasting\"\n",
        "exp = Experiment(workspace=ws, name=experiment_name)"
      ]
    },
    {
      "cell_type": "markdown",
      "metadata": {},
      "source": [
        " ### Create or attach an existing compute cluster\n",
        " * For training an ARIMA model, a CPU cluster is enough.\n",
        " *\tNote the min_nodes parameter is 0, meaning by default this will have no machines in the cluster and it will automatically scale up and down, so you won't pay for the cluster when you’re not using it.\n",
        " *\tYou can also enforce policies to control your costs."
      ]
    },
    {
      "cell_type": "code",
      "execution_count": null,
      "metadata": {},
      "outputs": [],
      "source": [
        "# choose a name for your cluster\n",
        "compute_name = os.environ.get(\"AML_COMPUTE_CLUSTER_NAME\", \"cpucluster\")\n",
        "\n",
        "compute_min_nodes = os.environ.get(\"AML_COMPUTE_CLUSTER_MIN_NODES\", 0)\n",
        "compute_max_nodes = os.environ.get(\"AML_COMPUTE_CLUSTER_MAX_NODES\", 4)\n",
        "\n",
        "# This example uses CPU VM. For using GPU VM, set SKU to STANDARD_NC6\n",
        "vm_size = os.environ.get(\"AML_COMPUTE_CLUSTER_SKU\", \"STANDARD_D2_V2\")\n",
        "\n",
        "if compute_name in ws.compute_targets:\n",
        "    compute_target = ws.compute_targets[compute_name]\n",
        "    if compute_target and type(compute_target) is AmlCompute:\n",
        "        print(\"found compute target. just use it. \" + compute_name)\n",
        "else:\n",
        "    print(\"creating a new compute target...\")\n",
        "    provisioning_config = AmlCompute.provisioning_configuration(\n",
        "        vm_size=vm_size, min_nodes=compute_min_nodes, max_nodes=compute_max_nodes\n",
        "    )\n",
        "\n",
        "    # create the cluster\n",
        "    compute_target = ComputeTarget.create(ws, compute_name, provisioning_config)\n",
        "\n",
        "    # can poll for a minimum number of nodes and for a specific timeout.\n",
        "    # if no min node count is provided, it will use the scale settings for the cluster\n",
        "    compute_target.wait_for_completion(\n",
        "        show_output=True, min_node_count=None, timeout_in_minutes=20\n",
        "    )\n",
        "\n",
        "    # For a more detailed view of current AmlCompute status, use 'get_status()'\n",
        "    print(compute_target.get_status().serialize())"
      ]
    },
    {
      "cell_type": "markdown",
      "metadata": {},
      "source": [
        " ### Upload data to a datastore\n",
        " * Firstly, you can download GEFCom2014 dataset and save the files into a `data` directory locally, which can be done by executing the commented lines in the cell.\n",
        " The data in this example is taken from the GEFCom2014 forecasting competition<sup>1</sup>.\n",
        " It consists of 3 years of hourly electricity load and temperature values between 2012 and 2014.\n",
        "\n",
        " * Then, the data is uploaded to the default blob data storage attached to your workspace.\n",
        " The energy file is uploaded into a directory named energy_data at the root of the datastore.\n",
        " The upload of data must be run only the first time. If you run it again, it will skip the uploading of files already present on the datastore.\n",
        "\n",
        "<sup>1</sup>Tao Hong, Pierre Pinson, Shu Fan, Hamidreza Zareipour, Alberto Troccoli and Rob J. Hyndman, \"Probabilistic energy forecasting: Global Energy Forecasting Competition 2014 and beyond\", International Journal of Forecasting, vol.32, no.3, pp 896-913, July-September, 2016."
      ]
    },
    {
      "cell_type": "code",
      "execution_count": null,
      "metadata": {},
      "outputs": [],
      "source": [
        "# data = pd.read_csv(\"./data/energy.csv\")\n",
        "\n",
        "# # Preview the first 5 lines of the loaded data\n",
        "# data.head()\n",
        "\n",
        "# save the files into a data directory locally\n",
        "data_folder = \"./data\"\n",
        "\n",
        "# data_folder = os.path.join(os.getcwd(), 'data')\n",
        "os.makedirs(data_folder, exist_ok=True)\n",
        "\n",
        "# import shutil\n",
        "# from common.utils import extract_data, download_file\n",
        "# if not os.path.exists(os.path.join(data_folder, 'energy.csv')):\n",
        "#     # Download and move the zip file\n",
        "#     download_file(\"https://mlftsfwp.blob.core.windows.net/mlftsfwp/GEFCom2014.zip\")\n",
        "#     shutil.move(\"GEFCom2014.zip\", os.path.join(data_dir,\"GEFCom2014.zip\"))\n",
        "#     # If not done already, extract zipped data and save as csv\n",
        "#     extract_data(data_dir)\n",
        "#\n",
        "# get the default datastore\n",
        "ds = ws.get_default_datastore()\n",
        "print(ds.name, ds.datastore_type, ds.account_name, ds.container_name, sep=\"\\n\")\n",
        "\n",
        "# upload the data\n",
        "ds.upload(\n",
        "    src_dir=data_folder, target_path=\"energy_data\", overwrite=True, show_progress=True\n",
        ")\n",
        "\n",
        "ds = ws.get_default_datastore()\n",
        "print(ds.datastore_type, ds.account_name, ds.container_name)"
      ]
    },
    {
      "cell_type": "markdown",
      "metadata": {},
      "source": [
        " ### Create an estimator\n",
        " The following parameters will be given to the Estimator:\n",
        " * source directory: the directory which will be uploaded to Azure and contains the script `train.py`.\n",
        " * entry_script: the script that will be executed (train.py).\n",
        " * script_params: the parameters that will be given to the entry script.\n",
        " * compute_target: the the compute cluster that was created above.\n",
        " * conda_dependencies_file: a conda environment yaml specifying the packages in your conda environment, that the script needs.\n",
        "\n",
        "For more information to define an estimator, see [here](https://docs.microsoft.com/de-ch/python/api/azureml-train-core/azureml.train.estimator.estimator?view=azure-ml-py)."
      ]
    },
    {
      "cell_type": "code",
      "execution_count": null,
      "metadata": {},
      "outputs": [],
      "source": [
        "script_params = {\n",
        "    \"--data-folder\": ds.path(\"energy_data\").as_mount(),\n",
        "    \"--filename\": \"energy.csv\",\n",
        "}\n",
        "script_folder = os.path.join(os.getcwd(), \"energydemandforecasting\")\n",
        "\n",
        "est = Estimator(\n",
        "    source_directory=script_folder,\n",
        "    script_params=script_params,\n",
        "    compute_target=compute_target,\n",
        "    entry_script=\"train.py\",\n",
        "    conda_dependencies_file=\"azureml-env.yml\",\n",
        ")"
      ]
    },
    {
      "cell_type": "markdown",
      "metadata": {},
      "source": [
        " ### Submit the job to the cluster"
      ]
    },
    {
      "cell_type": "code",
      "execution_count": null,
      "metadata": {},
      "outputs": [],
      "source": [
        "run = exp.submit(config=est)\n",
        "\n",
        "# specify show_output to True for a verbose log\n",
        "run.wait_for_completion(show_output=False)"
      ]
    },
    {
      "cell_type": "markdown",
      "metadata": {},
      "source": [
        " ### Register model\n",
        "\n",
        " As a last step, we register the model in the workspace, which saves it under 'Models' on Azure, so that you and other collaborators can later query, examine, and deploy this model.\n",
        "\n",
        " `outputs` is a directory in your Azure experiment in which the trained model is automatically saved while running the experiment.\n",
        " By registering the model, it is now available on your workspace."
      ]
    },
    {
      "cell_type": "code",
      "execution_count": null,
      "metadata": {},
      "outputs": [],
      "source": [
        "# see files associated with that run\n",
        "print(run.get_file_names())\n",
        "\n",
        "# register model\n",
        "model = run.register_model(model_name=\"arimamodel\", model_path=\"outputs/arimamodel.pkl\")"
      ]
    }
  ],
  "metadata": {
    "file_extension": ".py",
    "jupytext": {
      "encoding": "# -*- coding: utf-8 -*-",
      "formats": "ipynb,py"
    },
    "kernel_info": {
      "name": "python3-azureml"
    },
    "kernelspec": {
      "display_name": "Python 3.6 - AzureML",
      "language": "python",
      "name": "python3-azureml"
    },
    "language_info": {
      "codemirror_mode": {
        "name": "ipython",
        "version": 3
      },
      "file_extension": ".py",
      "mimetype": "text/x-python",
      "name": "python",
      "nbconvert_exporter": "python",
      "pygments_lexer": "ipython3",
      "version": "3.6.9"
    },
    "mimetype": "text/x-python",
    "name": "python",
    "npconvert_exporter": "python",
    "nteract": {
      "version": "nteract-front-end@1.0.0"
    },
    "pygments_lexer": "ipython3",
    "version": 3
  },
  "nbformat": 4,
  "nbformat_minor": 4
}
